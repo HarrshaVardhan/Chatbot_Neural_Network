{
 "cells": [
  {
   "cell_type": "code",
   "execution_count": 1,
   "metadata": {},
   "outputs": [
    {
     "name": "stdout",
     "output_type": "stream",
     "text": [
      "Requirement already satisfied: tflearn in c:\\users\\jgaur\\anaconda3\\lib\\site-packages (0.5.0)\n",
      "Requirement already satisfied: six in c:\\users\\jgaur\\anaconda3\\lib\\site-packages (from tflearn) (1.15.0)\n",
      "Requirement already satisfied: Pillow in c:\\users\\jgaur\\anaconda3\\lib\\site-packages (from tflearn) (8.0.1)\n",
      "Requirement already satisfied: numpy in c:\\users\\jgaur\\anaconda3\\lib\\site-packages (from tflearn) (1.19.2)\n"
     ]
    }
   ],
   "source": [
    "!pip install tflearn "
   ]
  },
  {
   "cell_type": "code",
   "execution_count": 11,
   "metadata": {},
   "outputs": [],
   "source": [
    "import nltk\n",
    "import random\n",
    "import pickle\n",
    "import json\n",
    "import numpy as np\n",
    "import warnings\n",
    "\n",
    "import tensorflow as tf\n",
    "import tflearn\n",
    "from nltk.stem.lancaster import LancasterStemmer\n",
    "\n",
    "warnings.filterwarnings('ignore')"
   ]
  },
  {
   "cell_type": "code",
   "execution_count": 2,
   "metadata": {},
   "outputs": [],
   "source": [
    "''' reading json file '''\n",
    "with open('intents.json', 'rb') as json_file:\n",
    "    ''' load data '''\n",
    "    data = json.load(json_file)"
   ]
  },
  {
   "cell_type": "code",
   "execution_count": 3,
   "metadata": {},
   "outputs": [
    {
     "data": {
      "text/plain": [
       "{'intents': [{'tag': 'greeting',\n",
       "   'patterns': ['Hi', 'How are you', 'Is anyone there?', 'Hello', 'Good day'],\n",
       "   'responses': ['Hello, thanks for visiting',\n",
       "    'Good to see you again',\n",
       "    'Hi there, how can I help?'],\n",
       "   'context_set': ''},\n",
       "  {'tag': 'goodbye',\n",
       "   'patterns': ['Bye', 'See you later', 'Goodbye'],\n",
       "   'responses': ['See you later, thanks for visiting',\n",
       "    'Have a nice day',\n",
       "    'Bye! Come back again soon.']},\n",
       "  {'tag': 'thanks',\n",
       "   'patterns': ['Thanks', 'Thank you', \"That's helpful\"],\n",
       "   'responses': ['Happy to help!', 'Any time!', 'My pleasure']},\n",
       "  {'tag': 'hours',\n",
       "   'patterns': ['What hours are you open?',\n",
       "    'What are your hours?',\n",
       "    'When are you open?'],\n",
       "   'responses': [\"We're open every day 9am-9pm\",\n",
       "    'Our hours are 9am-9pm every day']},\n",
       "  {'tag': 'location',\n",
       "   'patterns': ['What is your location?',\n",
       "    'Where are you located?',\n",
       "    'What is your address?',\n",
       "    'Where is your restaurant situated?'],\n",
       "   'responses': ['We are on the intersection of London Alley and Bridge Avenue.',\n",
       "    'We are situated at the intersection of London Alley and Bridge Avenue',\n",
       "    'Our Address is: 1000 Bridge Avenue, London EC3N 4AJ, UK']},\n",
       "  {'tag': 'payments',\n",
       "   'patterns': ['Do you take credit cards?',\n",
       "    'Do you accept Mastercard?',\n",
       "    'Are you cash only?'],\n",
       "   'responses': ['We accept VISA, Mastercard and AMEX',\n",
       "    'We accept most major credit cards']},\n",
       "  {'tag': 'todaysmenu',\n",
       "   'patterns': ['What is your menu for today?',\n",
       "    'What are you serving today?',\n",
       "    \"What is today's special?\"],\n",
       "   'responses': [\"Today's special is Chicken Tikka\",\n",
       "    'Our speciality for today is Chicken Tikka']},\n",
       "  {'tag': 'deliveryoption',\n",
       "   'patterns': ['Do you provide home delivery?',\n",
       "    'Do you deliver the food?',\n",
       "    'What are the home delivery options?'],\n",
       "   'responses': ['Yes, we provide home delivery through UBER Eats and Zomato?',\n",
       "    'We have home delivery options through UBER Eats and Zomato'],\n",
       "   'context_set': 'food'},\n",
       "  {'tag': 'menu',\n",
       "   'patterns': ['What is your Menu?',\n",
       "    'What are the main course options?',\n",
       "    'Can you tell me the most delicious dish from the menu?',\n",
       "    \"What is the today's special?\"],\n",
       "   'responses': ['You can visit www.mymenu.com for menu options',\n",
       "    'You can check out the food menu at www.mymenu.com',\n",
       "    'You can check various delicacies given in the food menu at www.mymenu.com'],\n",
       "   'context_filter': 'food'}]}"
      ]
     },
     "execution_count": 3,
     "metadata": {},
     "output_type": "execute_result"
    }
   ],
   "source": [
    "data"
   ]
  },
  {
   "cell_type": "code",
   "execution_count": 4,
   "metadata": {},
   "outputs": [],
   "source": [
    "wor = []\n",
    "cls = []\n",
    "doc= []\n",
    "ig = ['?']\n",
    "\n",
    "for i in data['intents']:\n",
    "    for p in i['patterns']:\n",
    "        ''' converting p into tokens '''\n",
    "        w = nltk.word_tokenize(p)\n",
    "        \n",
    "        '''add word to the words list'''\n",
    "        wor.extend(w)\n",
    "        \n",
    "        '''add word(s) to documents'''\n",
    "        doc.append((w, i['tag']))\n",
    "        \n",
    "        '''add tags to our classes list'''\n",
    "        if i['tag'] not in cls:\n",
    "            cls.append(i['tag'])"
   ]
  },
  {
   "cell_type": "code",
   "execution_count": 5,
   "metadata": {},
   "outputs": [],
   "source": [
    "''' text cleaning '''\n",
    "\n",
    "''' stemmer '''\n",
    "stem = LancasterStemmer()\n",
    "\n",
    "'''applying stemming '''\n",
    "w = [stem.stem(w.lower()) for w in wor if w not in ig]\n",
    "\n",
    "''' sorting words '''\n",
    "w = sorted(list(set(w)))"
   ]
  },
  {
   "cell_type": "code",
   "execution_count": 6,
   "metadata": {},
   "outputs": [
    {
     "data": {
      "text/plain": [
       "[\"'s\",\n",
       " 'acceiv',\n",
       " 'address',\n",
       " 'anyon',\n",
       " 'ar',\n",
       " 'bye',\n",
       " 'can',\n",
       " 'card',\n",
       " 'cash',\n",
       " 'cours']"
      ]
     },
     "execution_count": 6,
     "metadata": {},
     "output_type": "execute_result"
    }
   ],
   "source": [
    "w[:10]"
   ]
  },
  {
   "cell_type": "code",
   "execution_count": 7,
   "metadata": {},
   "outputs": [],
   "source": [
    "''' creating training data and training label i.e. X and y'''\n",
    "X = []\n",
    "y = []\n",
    "\n",
    "'''create an empty array for output'''\n",
    "out_emp = [0] * len(cls)\n",
    "\n",
    "for d in doc:\n",
    "    '''initialize bag of words'''\n",
    "    b = []\n",
    "    \n",
    "    '''list of tokenized words for the pattern'''\n",
    "    pw = d[0]\n",
    "    \n",
    "    ''' stemming '''\n",
    "    pw = [stem.stem(word.lower()) for word in pw]\n",
    "    \n",
    "    '''creating bag of words array'''\n",
    "    for w in wor:\n",
    "        b.append(1) if w in pw else b.append(0)\n",
    "\n",
    "    ''' output is '1' for current tag and '0' for rest of other tags '''\n",
    "    out_r = list(out_emp)\n",
    "    out_r[cls.index(d[1])] = 1\n",
    "\n",
    "    X.append([b, out_emp])\n",
    "\n",
    "''' shuffling '''\n",
    "random.shuffle(X)\n",
    "\n",
    "''' converting training data into numpy array '''\n",
    "X = np.array(X)"
   ]
  },
  {
   "cell_type": "code",
   "execution_count": 8,
   "metadata": {},
   "outputs": [],
   "source": [
    "X_ = list(X[:,0])\n",
    "y = list(X[:,1])"
   ]
  },
  {
   "cell_type": "code",
   "execution_count": 9,
   "metadata": {},
   "outputs": [
    {
     "data": {
      "text/plain": [
       "[0, 0, 0, 0, 0]"
      ]
     },
     "execution_count": 9,
     "metadata": {},
     "output_type": "execute_result"
    }
   ],
   "source": [
    "X_[0][:5]"
   ]
  },
  {
   "cell_type": "code",
   "execution_count": 10,
   "metadata": {},
   "outputs": [
    {
     "name": "stdout",
     "output_type": "stream",
     "text": [
      "Training Step: 1999  | time: 0.036s\n",
      "| Adam | epoch: 500 | loss: 0.00000 - acc: 0.1970 -- iter: 24/31\n",
      "Training Step: 2000  | time: 0.048s\n",
      "| Adam | epoch: 500 | loss: 0.00000 - acc: 0.1916 -- iter: 31/31\n",
      "--\n"
     ]
    }
   ],
   "source": [
    "''' Neural mwork Model '''\n",
    "m = tflearn.input_data(shape=[None, len(X_[0])])\n",
    "m = tflearn.fully_connected(m, 10)\n",
    "m = tflearn.fully_connected(m, 10)\n",
    "m = tflearn.fully_connected(m, len(y[0]), activation='softmax')\n",
    "m = tflearn.regression(m)\n",
    "\n",
    "''' Defining model and setting up tensorboard'''\n",
    "model = tflearn.DNN(m, tensorboard_dir='tflearn_logs')\n",
    "\n",
    "''' training '''\n",
    "model.fit(X_, y, n_epoch=500, batch_size=8, show_metric=True)"
   ]
  },
  {
   "cell_type": "code",
   "execution_count": 16,
   "metadata": {},
   "outputs": [],
   "source": [
    "pickle.dump( {'words':wor, 'classes':cls, 'X':X_, 'y':y}, open( \"training_data\", \"wb\" ) )"
   ]
  },
  {
   "cell_type": "code",
   "execution_count": 18,
   "metadata": {},
   "outputs": [],
   "source": [
    "'''restoring all the data structures'''\n",
    "d = pickle.load( open( \"training_data\", \"rb\" ) )\n",
    "d_w = d['words']\n",
    "d_c = d['classes']\n",
    "X_ = d['X']\n",
    "y = d['y']"
   ]
  },
  {
   "cell_type": "code",
   "execution_count": 23,
   "metadata": {},
   "outputs": [],
   "source": [
    "def clean_sent(sent):\n",
    "    ''' convert sent into tokens '''\n",
    "    sent_word = nltk.word_tokenize(sent)\n",
    "    'stemming'''\n",
    "    sent_word = [stem.stem(word.lower()) for word in sent_word]\n",
    "    return sent_word\n",
    "\n",
    "def bag_of_words(sent, w, sd=False):\n",
    "    ''' calling clean_sent function '''\n",
    "    sent_word = clean_sent(sent)\n",
    "    '''generating bag of words'''\n",
    "    bow = [0]*len(w)  \n",
    "    for s in sent_word:\n",
    "        for i, w_ in enumerate(w):\n",
    "            if w_ == s: \n",
    "                bow[i] = 1\n",
    "                if sd:\n",
    "                    print (\"found in bag: %s\" % w_)\n",
    "\n",
    "    return(np.array(bow))"
   ]
  },
  {
   "cell_type": "code",
   "execution_count": 46,
   "metadata": {},
   "outputs": [],
   "source": [
    "ERROR_THRESHOLD = 0.10\n",
    "\n",
    "\n",
    "def classification(sent):\n",
    "    ''' prediction '''\n",
    "    results = model.predict([bag_of_words(sent, d_w)])[0]\n",
    "    \n",
    "    '''filter out predictions below a threshold'''\n",
    "    res = [[i,r] for i, r in enumerate(results) if r > ERROR_THRESHOLD]\n",
    "    \n",
    "    '''sorting'''\n",
    "    res.sort(key=lambda x: x[1], reverse=True)\n",
    "    ret_l = []\n",
    "    for r in res:\n",
    "        ret_l.append((d_c[r[0]], r[1]))\n",
    "    \n",
    "    ''' return tuple of intent and probability '''\n",
    "    return ret_l\n",
    "\n",
    "def resp(sent, userID='123', s_d=False):\n",
    "    res = classification(sent)\n",
    "    '''if we have a classification then find the matching intent tag'''\n",
    "    if res:\n",
    "        while res:\n",
    "            for i in data['intents']:\n",
    "                \n",
    "                '''find a tag matching the first resul'''\n",
    "                if i['tag'] == res[0][0]:\n",
    "                    \n",
    "                    '''a random response from the intent'''\n",
    "                    return print(random.choice(i['responses']))\n",
    "\n",
    "            res.pop(0)"
   ]
  },
  {
   "cell_type": "code",
   "execution_count": 47,
   "metadata": {},
   "outputs": [
    {
     "data": {
      "text/plain": [
       "[('location', 0.11119011),\n",
       " ('goodbye', 0.111175604),\n",
       " ('payments', 0.11114356),\n",
       " ('greeting', 0.111143544),\n",
       " ('hours', 0.11108659),\n",
       " ('thanks', 0.111074775),\n",
       " ('deliveryoption', 0.111074075),\n",
       " ('menu', 0.11107163),\n",
       " ('todaysmenu', 0.11104013)]"
      ]
     },
     "execution_count": 47,
     "metadata": {},
     "output_type": "execute_result"
    }
   ],
   "source": [
    "classification('What are you hours of operation?')"
   ]
  },
  {
   "cell_type": "code",
   "execution_count": 48,
   "metadata": {},
   "outputs": [
    {
     "name": "stdout",
     "output_type": "stream",
     "text": [
      "We are on the intersection of London Alley and Bridge Avenue.\n"
     ]
    }
   ],
   "source": [
    "resp('What are you hours of operation?')"
   ]
  },
  {
   "cell_type": "code",
   "execution_count": 50,
   "metadata": {},
   "outputs": [
    {
     "name": "stdout",
     "output_type": "stream",
     "text": [
      "Our Address is: 1000 Bridge Avenue, London EC3N 4AJ, UK\n"
     ]
    }
   ],
   "source": [
    "resp('What is menu for today?')"
   ]
  },
  {
   "cell_type": "code",
   "execution_count": 51,
   "metadata": {},
   "outputs": [
    {
     "name": "stdout",
     "output_type": "stream",
     "text": [
      "We are on the intersection of London Alley and Bridge Avenue.\n"
     ]
    }
   ],
   "source": [
    "resp('Do you accept Credit Card?')"
   ]
  },
  {
   "cell_type": "code",
   "execution_count": 52,
   "metadata": {},
   "outputs": [
    {
     "name": "stdout",
     "output_type": "stream",
     "text": [
      "We are on the intersection of London Alley and Bridge Avenue.\n"
     ]
    }
   ],
   "source": [
    "resp('Where can we locate you?')"
   ]
  },
  {
   "cell_type": "code",
   "execution_count": 54,
   "metadata": {},
   "outputs": [
    {
     "name": "stdout",
     "output_type": "stream",
     "text": [
      "Good to see you again\n"
     ]
    }
   ],
   "source": [
    "resp('Bye')"
   ]
  },
  {
   "cell_type": "code",
   "execution_count": 58,
   "metadata": {},
   "outputs": [],
   "source": [
    "ERROR_THRESHOLD = 0.05\n",
    "\n",
    "\n",
    "def classification(sent):\n",
    "    ''' prediction '''\n",
    "    results = model.predict([bag_of_words(sent, d_w)])[0]\n",
    "    \n",
    "    '''filter out predictions below a threshold'''\n",
    "    res = [[i,r] for i, r in enumerate(results) if r > ERROR_THRESHOLD]\n",
    "    \n",
    "    '''sorting'''\n",
    "    res.sort(key=lambda x: x[1], reverse=True)\n",
    "    ret_l = []\n",
    "    for r in res:\n",
    "        ret_l.append((d_c[r[0]], r[1]))\n",
    "    \n",
    "    ''' return tuple of intent and probability '''\n",
    "    return ret_l\n",
    "\n",
    "def resp(sent, userID='123', s_d=False):\n",
    "    res = classification(sent)\n",
    "    '''if we have a classification then find the matching intent tag'''\n",
    "    if res:\n",
    "        while res:\n",
    "            for i in data['intents']:\n",
    "                \n",
    "                '''find a tag matching the first resul'''\n",
    "                if i['tag'] == res[0][0]:\n",
    "                    \n",
    "                    '''a random response from the intent'''\n",
    "                    return print(random.choice(i['responses']))\n",
    "\n",
    "            res.pop(0)"
   ]
  },
  {
   "cell_type": "code",
   "execution_count": 59,
   "metadata": {},
   "outputs": [
    {
     "name": "stdout",
     "output_type": "stream",
     "text": [
      "We are on the intersection of London Alley and Bridge Avenue.\n"
     ]
    }
   ],
   "source": [
    "resp('Can you please let me know the delivery options?')"
   ]
  },
  {
   "cell_type": "code",
   "execution_count": 60,
   "metadata": {},
   "outputs": [
    {
     "name": "stdout",
     "output_type": "stream",
     "text": [
      "We are situated at the intersection of London Alley and Bridge Avenue\n"
     ]
    }
   ],
   "source": [
    "resp('What is menu for today?')"
   ]
  },
  {
   "cell_type": "code",
   "execution_count": 63,
   "metadata": {},
   "outputs": [
    {
     "name": "stdout",
     "output_type": "stream",
     "text": [
      "Hello, thanks for visiting\n"
     ]
    }
   ],
   "source": [
    "resp(\"Hi there!\", s_d=True)"
   ]
  },
  {
   "cell_type": "code",
   "execution_count": 64,
   "metadata": {},
   "outputs": [
    {
     "name": "stdout",
     "output_type": "stream",
     "text": [
      "We are situated at the intersection of London Alley and Bridge Avenue\n"
     ]
    }
   ],
   "source": [
    "resp('What is menu for today?')"
   ]
  },
  {
   "cell_type": "code",
   "execution_count": null,
   "metadata": {},
   "outputs": [],
   "source": []
  }
 ],
 "metadata": {
  "kernelspec": {
   "display_name": "Python 3",
   "language": "python",
   "name": "python3"
  },
  "language_info": {
   "codemirror_mode": {
    "name": "ipython",
    "version": 3
   },
   "file_extension": ".py",
   "mimetype": "text/x-python",
   "name": "python",
   "nbconvert_exporter": "python",
   "pygments_lexer": "ipython3",
   "version": "3.8.5"
  }
 },
 "nbformat": 4,
 "nbformat_minor": 4
}
